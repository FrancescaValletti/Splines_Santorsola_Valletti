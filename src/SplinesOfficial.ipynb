{
 "cells": [
  {
   "cell_type": "code",
   "execution_count": 1,
   "metadata": {},
   "outputs": [
    {
     "data": {
      "text/plain": [
       "(::#1) (generic function with 1 method)"
      ]
     },
     "execution_count": 1,
     "metadata": {},
     "output_type": "execute_result"
    }
   ],
   "source": [
    "function sel(n::Int64)\n",
    "    return list -> list[n]\n",
    "end\n",
    "\n",
    "S1 = sel(1)\n",
    "S2 = sel(2)\n",
    "S3 = sel(3)"
   ]
  },
  {
   "cell_type": "code",
   "execution_count": 2,
   "metadata": {},
   "outputs": [
    {
     "data": {
      "text/plain": [
       "larBernsteinBasis (generic function with 1 method)"
      ]
     },
     "execution_count": 2,
     "metadata": {},
     "output_type": "execute_result"
    }
   ],
   "source": [
    "function larBernsteinBasis(u::Function, n::Int64)\n",
    "    function map_fn(x::Array{Float64,1})\n",
    "        bernstein(i, n, t::Float64) = binomial(n,i)*(1-t)^(n-i)*t^i\n",
    "        return [bernstein(i, n, u(x)) for i in 0:n]\n",
    "    end\n",
    "    return map_fn\n",
    "end"
   ]
  },
  {
   "cell_type": "code",
   "execution_count": 3,
   "metadata": {},
   "outputs": [
    {
     "data": {
      "text/plain": [
       "4-element Array{Float64,1}:\n",
       " 0.027\n",
       " 0.189\n",
       " 0.441\n",
       " 0.343"
      ]
     },
     "execution_count": 3,
     "metadata": {},
     "output_type": "execute_result"
    }
   ],
   "source": [
    "#--UNIT TEST--#\n",
    "\n",
    "bernstein = larBernsteinBasis(S1, 3)\n",
    "point = [0.7,2,7.3]\n",
    "result = bernstein(point)"
   ]
  },
  {
   "cell_type": "code",
   "execution_count": 10,
   "metadata": {},
   "outputs": [
    {
     "data": {
      "text/plain": [
       "larBezier (generic function with 1 method)"
      ]
     },
     "execution_count": 10,
     "metadata": {},
     "output_type": "execute_result"
    }
   ],
   "source": [
    "function larBezier{T<:Real}(u::Function, controldata::Array{Array{T,1},1})\n",
    "    n = length(controldata) - 1\n",
    "    dim = length(controldata[1])\n",
    "    function map_fn(point::Array{Float64, 1})\n",
    "        t = u(point)\n",
    "        out = zeros(Float64, dim)\n",
    "        for i in 0:n\n",
    "            weight = binomial(n,i)*(1-t)^(n-i)*t^i\n",
    "            for k in 1:dim\n",
    "                out[k] += weight*controldata[i+1][k]\n",
    "            end\n",
    "        end\n",
    "        return out\n",
    "    end\n",
    "    return map_fn\n",
    "end"
   ]
  },
  {
   "cell_type": "code",
   "execution_count": null,
   "metadata": {},
   "outputs": [],
   "source": []
  },
  {
   "cell_type": "code",
   "execution_count": 11,
   "metadata": {},
   "outputs": [
    {
     "data": {
      "text/plain": [
       "2-element Array{Float64,1}:\n",
       " 0.784\n",
       " 0.468"
      ]
     },
     "execution_count": 11,
     "metadata": {},
     "output_type": "execute_result"
    }
   ],
   "source": [
    "#--UNIT TEST--#\n",
    "\n",
    "controldata = [[0,1],[0,0],[1,1],[1,0]]\n",
    "point = [0.5, 0.7, 1.2]\n",
    "u = S2\n",
    "bezier = larBezier(u, controldata)\n",
    "result = bezier(point)"
   ]
  },
  {
   "cell_type": "code",
   "execution_count": 6,
   "metadata": {},
   "outputs": [
    {
     "data": {
      "text/plain": [
       "larBezierCurve (generic function with 1 method)"
      ]
     },
     "execution_count": 6,
     "metadata": {},
     "output_type": "execute_result"
    }
   ],
   "source": [
    "function larBezierCurve(controlpoints)\n",
    "   return larBezier(S1, controlpoints)\n",
    "end"
   ]
  },
  {
   "cell_type": "code",
   "execution_count": 7,
   "metadata": {},
   "outputs": [
    {
     "data": {
      "text/plain": [
       "2-element Array{Float64,1}:\n",
       " 0.104\n",
       " 0.608"
      ]
     },
     "execution_count": 7,
     "metadata": {},
     "output_type": "execute_result"
    }
   ],
   "source": [
    "#--UNIT TEST--#\n",
    "\n",
    "controls = [[0,1],[0,0],[1,1],[1,0]]\n",
    "point = [0.2, 0.7, 1.2]\n",
    "bezier = larBezierCurve(controls)\n",
    "result = bezier(point)"
   ]
  },
  {
   "cell_type": "code",
   "execution_count": 8,
   "metadata": {},
   "outputs": [
    {
     "data": {
      "text/plain": [
       "larTensorProdSurface (generic function with 1 method)"
      ]
     },
     "execution_count": 8,
     "metadata": {},
     "output_type": "execute_result"
    }
   ],
   "source": [
    "function larTensorProdSurface{F<:Function, T<:Real}(args::Array{F, 1}, \n",
    "                            controlpoints::Array{Array{Array{T, 1}, 1}, 1})\n",
    "    ubasis , vbasis = args\n",
    "    function map_fn(point::Array{Float64, 1})\n",
    "        u, v = point\n",
    "        U = ubasis([u])\n",
    "        V = vbasis([v])\n",
    "        target_dim = length(controlpoints[1][1])\n",
    "        ret = zeros(Float64, target_dim)\n",
    "        dim_u = length(U)\n",
    "        dim_v = length(V)\n",
    "        if (length(controlpoints[1])!= dim_u || length(controlpoints[2])!= dim_v)\n",
    "            error(\"Invalid set of control points for those bases!\") \n",
    "        end\n",
    "        for i in 1:dim_u\n",
    "            for j in 1:dim_v\n",
    "                #for M in 1:target_dim\n",
    "                    for M in 1:target_dim \n",
    "                        ret[M] += U[i]*V[j]*controlpoints[i][j][M]\n",
    "                    end\n",
    "                #end\n",
    "            end\n",
    "        end\n",
    "        return ret\n",
    "    end\n",
    "    return map_fn\n",
    "end"
   ]
  },
  {
   "cell_type": "code",
   "execution_count": 9,
   "metadata": {},
   "outputs": [
    {
     "data": {
      "text/plain": [
       "3-element Array{Float64,1}:\n",
       "  6.0\n",
       " -5.5\n",
       "  1.5"
      ]
     },
     "execution_count": 9,
     "metadata": {},
     "output_type": "execute_result"
    }
   ],
   "source": [
    "#--UNIT TEST--#\n",
    "\n",
    "controlpoints = [[[0,0,0],[2,-4,2]],[[0,3,1],[4,0,0]]]\n",
    "basis = larBernsteinBasis(S1, 1)\n",
    "point = [0.5, 2]\n",
    "tensorprodsurf = larTensorProdSurface([basis, basis], controlpoints)\n",
    "result = tensorprodsurf(point)"
   ]
  },
  {
   "cell_type": "code",
   "execution_count": 16,
   "metadata": {
    "scrolled": true
   },
   "outputs": [
    {
     "data": {
      "text/plain": [
       "larBilinearSurface (generic function with 1 method)"
      ]
     },
     "execution_count": 16,
     "metadata": {},
     "output_type": "execute_result"
    }
   ],
   "source": [
    "function larBilinearSurface{T<:Real}(controlpoints::Array{Array{Array{T, 1}, 1}, 1})\n",
    "   basis = larBernsteinBasis(S1, 1)\n",
    "   return larTensorProdSurface([basis, basis], controlpoints)\n",
    "end"
   ]
  },
  {
   "cell_type": "code",
   "execution_count": 17,
   "metadata": {},
   "outputs": [
    {
     "data": {
      "text/plain": [
       "3-element Array{Float64,1}:\n",
       "  2.1 \n",
       " -0.95\n",
       "  0.85"
      ]
     },
     "execution_count": 17,
     "metadata": {},
     "output_type": "execute_result"
    }
   ],
   "source": [
    "#--UNIT TEST--#\n",
    "\n",
    "controlpoints = [[[0,0,0],[2,-4,2]],[[0,3,1],[4,0,0]]]\n",
    "point = [0.5,0.7]\n",
    "bilinear = larBilinearSurface(controlpoints)\n",
    "result = bilinear(point)"
   ]
  },
  {
   "cell_type": "code",
   "execution_count": 18,
   "metadata": {},
   "outputs": [
    {
     "data": {
      "text/plain": [
       "larBiquadraticSurface (generic function with 1 method)"
      ]
     },
     "execution_count": 18,
     "metadata": {},
     "output_type": "execute_result"
    }
   ],
   "source": [
    "function larBiquadraticSurface{T<:Real}(controlpoints::Array{Array{Array{T, 1}, 1}, 1})\n",
    "   basis1 = larBernsteinBasis(S1, 2)\n",
    "   basis2 = larBernsteinBasis(S1, 2)\n",
    "   return larTensorProdSurface([basis1,basis2], controlpoints)\n",
    "end"
   ]
  },
  {
   "cell_type": "code",
   "execution_count": 20,
   "metadata": {},
   "outputs": [
    {
     "data": {
      "text/plain": [
       "3-element Array{Float64,1}:\n",
       "  0.3624\n",
       "  3.2096\n",
       " -0.0404"
      ]
     },
     "execution_count": 20,
     "metadata": {},
     "output_type": "execute_result"
    }
   ],
   "source": [
    "#--UNIT TEST--#\n",
    "\n",
    "controlpoints = [[[0,0,0],[2,0,1],[3,1,1]],\n",
    "               [[1,3,-1],[2,2,0],[3,2,0]],\n",
    "               [[-2,4,0],[2,5,1],[1,3,2]]]\n",
    "biquadratic = larBiquadraticSurface(controlpoints)\n",
    "point = [0.7, 0.2]\n",
    "result = biquadratic(point)"
   ]
  },
  {
   "cell_type": "code",
   "execution_count": 21,
   "metadata": {},
   "outputs": [
    {
     "data": {
      "text/plain": [
       "larBicubicSurface (generic function with 1 method)"
      ]
     },
     "execution_count": 21,
     "metadata": {},
     "output_type": "execute_result"
    }
   ],
   "source": [
    "function larBicubicSurface{T<:Real}(controlpoints::Array{Array{Array{T, 1}, 1}, 1})\n",
    "   basis1 = larBernsteinBasis(S1, 3)\n",
    "   basis2 = larBernsteinBasis(S1, 3)\n",
    "   return larTensorProdSurface([basis1, basis2], controlpoints)\n",
    "end"
   ]
  },
  {
   "cell_type": "code",
   "execution_count": 22,
   "metadata": {},
   "outputs": [
    {
     "data": {
      "text/plain": [
       "3-element Array{Float64,1}:\n",
       " 7.1176 \n",
       " 1.76594\n",
       " 2.82268"
      ]
     },
     "execution_count": 22,
     "metadata": {},
     "output_type": "execute_result"
    }
   ],
   "source": [
    "#--UNIT TEST--#\n",
    "\n",
    "controlpoints = [[[0,0,0], [0,3,4], [0,6,3], [0,10,0]],\n",
    "                 [[3,0,2], [2,2.5,5], [3,6,5], [4,8,2]],\n",
    "                 [[6,0,2], [8,3,5], [7,6,4.5], [6,10,2.5]],\n",
    "                 [[10,0,0], [11,3,4], [11,6,3], [10,9,0]]]\n",
    "bicubic = larBicubicSurface(controlpoints)\n",
    "point = [0.7,0.2]\n",
    "result = bicubic(point)"
   ]
  },
  {
   "cell_type": "code",
   "execution_count": 25,
   "metadata": {},
   "outputs": [
    {
     "data": {
      "text/plain": [
       "larCoonsPatch (generic function with 1 method)"
      ]
     },
     "execution_count": 25,
     "metadata": {},
     "output_type": "execute_result"
    }
   ],
   "source": [
    "function larCoonsPatch{T<:Function}(args::Array{T, 1})\n",
    "    su0_fn , su1_fn , s0v_fn , s1v_fn = args\n",
    "    function map_fn(point)\n",
    "        u, v = point\n",
    "        su0 = su0_fn(point)\n",
    "        su1 = su1_fn(point)\n",
    "        s0v = s0v_fn(point)\n",
    "        s1v = s1v_fn(point)\n",
    "        ret = zeros(Float64, length(su0))  \n",
    "        for k in 1:length(ret)\n",
    "            ret[k] = ((1-u)*s0v[k] + u*s1v[k]+(1-v)*su0[k] + v*su1[k] + \n",
    "                     (1-u)*(1-v)*s0v[k] + (1-u)*v*s0v[k] + u*(1-v)*s1v[k] + u*v*s1v[k])\n",
    "        end\n",
    "        return ret\n",
    "    end\n",
    "    return map_fn\n",
    "end"
   ]
  },
  {
   "cell_type": "code",
   "execution_count": 26,
   "metadata": {},
   "outputs": [
    {
     "data": {
      "text/plain": [
       "3-element Array{Float64,1}:\n",
       "  6.0    \n",
       " 22.344  \n",
       "  4.11936"
      ]
     },
     "execution_count": 26,
     "metadata": {},
     "output_type": "execute_result"
    }
   ],
   "source": [
    "#--UNIT TEST--#\n",
    "\n",
    "Su0 = larBezier(S1, [[0,0,0],[10,0,0]])\n",
    "Su1 = larBezier(S1, [[0,10,0],[2.5,10,3],[5,10,-3],[7.5,10,3],[10,10,0]])\n",
    "Sv0 = larBezier(S2, [[0,0,0],[0,0,3],[0,10,3],[0,10,0]])\n",
    "Sv1 = larBezier(S2, [[10,0,0],[10,5,3],[10,10,0]])\n",
    "coons = larCoonsPatch([Su0,Su1,Sv0,Sv1])\n",
    "point = [0.2, 0.7]\n",
    "coons(point)"
   ]
  },
  {
   "cell_type": "code",
   "execution_count": 23,
   "metadata": {},
   "outputs": [
    {
     "data": {
      "text/plain": [
       "bsplineBasis (generic function with 1 method)"
      ]
     },
     "execution_count": 23,
     "metadata": {},
     "output_type": "execute_result"
    }
   ],
   "source": [
    "function bsplineBasis{T<:Real}(degree::Int64, knots::Array{T,1}, ncontrols::Int64)\n",
    "    n = ncontrols - 1\n",
    "    m = length(knots) - 1\n",
    "    k = degree + 1\n",
    "    tmin, tmax = knots[k-1], knots[n+1]       \n",
    "    if length(knots)!=(n+k+1) \n",
    "        error(\"Invalid point/knots/degree for bspline!\") \n",
    "    end\n",
    "    # de Boor coefficients\n",
    "    function deBoor(i::Int64, k::Int64, t::Float64)           \n",
    "        # deBoor coefficient Ni1(t)\n",
    "        if k == 1\n",
    "            if(t >= knots[i] && t<knots[i+1]) || (t == tmax && t>=knots[i] && t<=knots[i+1])\n",
    "                # t in [T_i, T_(i+1)) vel t=T_(n+1) in [T_i, T_(i+1)]\n",
    "                return 1\n",
    "            else\n",
    "                return 0\n",
    "            end\n",
    "        end\n",
    "        # deBoor coefficient Nik(t)\n",
    "        ret = 0    \n",
    "        num1, div1 = t-knots[i], knots[i+k-1]-knots[i]\n",
    "        if div1 != 0 \n",
    "            ret += (num1/div1) * deBoor(i,k-1,t) \n",
    "        end\n",
    "        num2, div2 = knots[i+k]-t, knots[i+k]-knots[i+1]\n",
    "        if div2 != 0\n",
    "            ret += (num2/div2) * deBoor(i+1,k-1,t)\n",
    "        end\n",
    "        return ret\n",
    "    end\n",
    "    # map function\n",
    "    function map_fn{T<:Real}(point::Array{T, 1})\n",
    "        t = point[1]\n",
    "        return [deBoor(i,k,t) for i in 1:n+1]\n",
    "    end\n",
    "    return map_fn\n",
    "end"
   ]
  },
  {
   "cell_type": "code",
   "execution_count": 24,
   "metadata": {},
   "outputs": [
    {
     "data": {
      "text/plain": [
       "8-element Array{Real,1}:\n",
       " 0    \n",
       " 0.09 \n",
       " 0.665\n",
       " 0.245\n",
       " 0.0  \n",
       " 0.0  \n",
       " 0.0  \n",
       " 0    "
      ]
     },
     "execution_count": 24,
     "metadata": {},
     "output_type": "execute_result"
    }
   ],
   "source": [
    "#--UNIT TEST--##\n",
    "\n",
    "knots = [0,0,0,0,1,2,3,4,4,4,4]\n",
    "ncontrols = 8\n",
    "degree = 2\n",
    "basis = bsplineBasis(degree, knots, ncontrols)\n",
    "point = [0.7,0.2,3.0]\n",
    "basis(point)"
   ]
  },
  {
   "cell_type": "code",
   "execution_count": 27,
   "metadata": {},
   "outputs": [
    {
     "data": {
      "text/plain": [
       "t_bspline (generic function with 1 method)"
      ]
     },
     "execution_count": 27,
     "metadata": {},
     "output_type": "execute_result"
    }
   ],
   "source": [
    "function t_bspline{T<:Real, F<:Function}(u::Function, degree::Int64, knots::Array{T,1}, \n",
    "                                    points_fn::Array{F, 1})\n",
    "   \n",
    "    n = length(points_fn)-1\n",
    "    m = length(knots)-1\n",
    "    k = degree + 1\n",
    "    tmin,tmax = knots[k-1], knots[n+1]\n",
    "   \n",
    "    # see http://www.na.iac.cnr.it/~bdv/cagd/spline/B-spline/bspline-curve.html\n",
    "    if length(knots)!=(n+k+1) \n",
    "        error(\"Invalid point/knots/degree for bspline!\") \n",
    "    end\n",
    "    # de Boor coefficients\n",
    "    function deBoor(i::Int64, k::Int64, t::Float64)\n",
    "        # Ni1(t)\n",
    "        if k == 1 \n",
    "            if(t>=knots[i] && t<knots[i+1]) || (t==tmax && t>=knots[i] && t<=knots[i+1])\n",
    "                # i use strict inclusion for the max value\n",
    "                return 1\n",
    "            else\n",
    "                return 0\n",
    "            end\n",
    "        end\n",
    "        # Nik(t)\n",
    "        ret = 0\n",
    "        \n",
    "        num1, div1 = t-knots[i], knots[i+k-1]-knots[i]  \n",
    "        if div1 != 0 \n",
    "            ret+=(num1/div1) * deBoor(i,k-1,t)\n",
    "            # elif num1!=0: ret+=deBoor(i,k-1,t)\n",
    "        end\n",
    "        \n",
    "        num2, div2 = knots[i+k]-t, knots[i+k]-knots[i+1]\n",
    "        if div2!=0  \n",
    "            ret+=(num2/div2) * deBoor(i+1,k-1,t)\n",
    "            # elif num2!=0: ret+=deBoor(i,k-1,t)\n",
    "        end\n",
    "           \n",
    "        return ret\n",
    "    end\n",
    "    \n",
    "    # map function\n",
    "    function map_fn(point::Array{Float64, 1})\n",
    "        t = u(point)\n",
    "        # if control points are functions\n",
    "        #points = point -> [f(point) for f in points_fn]    #POSSIBILE ERRORE QUI\n",
    "        target_dim = length(points_fn[1](point))    #errore qui\n",
    "        ret = zeros(Float64, target_dim)\n",
    "        for i in 1:n+1\n",
    "            coeff = deBoor(i,k,t) \n",
    "            for m in 1:target_dim\n",
    "                ret[m] += points_fn[i](point)[m] * coeff\n",
    "            end\n",
    "        end\n",
    "        return ret\n",
    "    end\n",
    "    return map_fn\n",
    "end"
   ]
  },
  {
   "cell_type": "code",
   "execution_count": 29,
   "metadata": {},
   "outputs": [
    {
     "data": {
      "text/plain": [
       "3-element Array{Float64,1}:\n",
       " 0.0284\n",
       " 0.6316\n",
       " 3.5   "
      ]
     },
     "execution_count": 29,
     "metadata": {},
     "output_type": "execute_result"
    }
   ],
   "source": [
    "#--UNIT TEST--#\n",
    "\n",
    "b1 = larBezier(S1, [[0,1,0],[0,1,5]])\n",
    "b2 = larBezier(S1, [[0,0,0],[0,0,5]])\n",
    "b3 = larBezier(S1, [[1,0,0],[2,-1,2.5],[1,0,5]])\n",
    "b4 = larBezier(S1, [[1,1,0],[1,1,5]])\n",
    "b5 = larBezier(S1, [[0,1,0],[0,1,5]])\n",
    "controls = [b1, b2, b3, b4, b5]\n",
    "knots = [0,1,2,3,4,5,6,7]           # periodic B-spline\n",
    "knots = [0,0,0,1,2,3,3,3]           # non-periodic B-spline\n",
    "tbspline = t_bspline(S2, 2, knots, controls) \n",
    "point = [0.7, 0.2]\n",
    "result = tbspline(point)"
   ]
  },
  {
   "cell_type": "code",
   "execution_count": 30,
   "metadata": {},
   "outputs": [
    {
     "data": {
      "text/plain": [
       "t_nurbs (generic function with 1 method)"
      ]
     },
     "execution_count": 30,
     "metadata": {},
     "output_type": "execute_result"
    }
   ],
   "source": [
    "function t_nurbs{T<:Real, F<:Function}(u::Function, degree::Int64, knots::Array{T,1}, \n",
    "                                       points::Array{F, 1})\n",
    "    bspline = t_bspline(u, degree, knots, points)\n",
    "    function map_fn(point)          #eliminare\n",
    "        ret = bspline(point)\n",
    "        last = ret[end]  #last element in ret\n",
    "        if last != 0\n",
    "            ret = [value/last for value in ret]\n",
    "        end\n",
    "        ret = ret[1:end-1] #it slices off the last element (that is now 1)\n",
    "        return ret\n",
    "    end\n",
    "    return map_fn\n",
    "end"
   ]
  },
  {
   "cell_type": "code",
   "execution_count": 31,
   "metadata": {},
   "outputs": [
    {
     "data": {
      "text/plain": [
       "3-element Array{Float64,1}:\n",
       " -0.955863\n",
       "  0.293812\n",
       "  0.7     "
      ]
     },
     "execution_count": 31,
     "metadata": {},
     "output_type": "execute_result"
    }
   ],
   "source": [
    "#--UNIT TEST--#\n",
    "\n",
    "knots = [0,0,0,1,1,2,2,3,3,4,4,4]\n",
    "p = sqrt(2)/2.0\n",
    "controls = [[-1,0,1], [-p,p,p], [0,1,1], [p,p,p],[1,0,1], [p,-p,p], \n",
    "         [0,-1,1], [-p,-p,p], [-1,0,1]]\n",
    "c1 = larBezier(S1, [[-1,0,0,1],[-1,0,1,1]])\n",
    "c2 = larBezier(S1, [[-p,p,0,p],[-p,p,p,p]])\n",
    "c3 = larBezier(S1, [[0,1,0,1],[0,1,1,1]])\n",
    "c4 = larBezier(S1, [[p,p,0,p],[p,p,p,p]])\n",
    "c5 = larBezier(S1, [[1,0,0,1],[1,0,1,1]])\n",
    "c6 = larBezier(S1, [[p,-p,0,p],[p,-p,p,p]])\n",
    "c7 = larBezier(S1, [[0,-1,0,1],[0,-1,1,1]])\n",
    "c8 = larBezier(S1, [[-p,-p,0,p],[-p,-p,p,p]])\n",
    "c9 = larBezier(S1, [[-1,0,0,1],[-1,0,1,1]])\n",
    "controls = [c1,c2,c3,c4,c5,c6,c7,c8,c9]\n",
    "         \n",
    "tnurbs = t_nurbs(S2,2,knots,controls)\n",
    "point = [0.7, 0.2]\n",
    "result = tnurbs(point)"
   ]
  },
  {
   "cell_type": "code",
   "execution_count": null,
   "metadata": {},
   "outputs": [],
   "source": []
  }
 ],
 "metadata": {
  "kernelspec": {
   "display_name": "Julia 0.6.0",
   "language": "julia",
   "name": "julia-0.6"
  },
  "language_info": {
   "file_extension": ".jl",
   "mimetype": "application/julia",
   "name": "julia",
   "version": "0.6.0"
  }
 },
 "nbformat": 4,
 "nbformat_minor": 2
}
